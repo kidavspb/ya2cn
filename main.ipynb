{
 "cells": [
  {
   "cell_type": "code",
   "execution_count": 1,
   "id": "bc53dccb4a838cfa",
   "metadata": {
    "ExecuteTime": {
     "end_time": "2023-10-31T05:10:20.006307Z",
     "start_time": "2023-10-31T05:10:19.963125Z"
    },
    "collapsed": false,
    "jupyter": {
     "outputs_hidden": false
    }
   },
   "outputs": [],
   "source": [
    "import csv\n",
    "import random"
   ]
  },
  {
   "cell_type": "code",
   "execution_count": 2,
   "id": "75179f44e5b069e2",
   "metadata": {
    "collapsed": false,
    "jupyter": {
     "outputs_hidden": false
    }
   },
   "outputs": [],
   "source": [
    "reviews = []\n",
    "sentiments = []"
   ]
  },
  {
   "cell_type": "code",
   "execution_count": 3,
   "id": "cc3df4da7ae0f471",
   "metadata": {
    "collapsed": false,
    "jupyter": {
     "outputs_hidden": false
    }
   },
   "outputs": [],
   "source": [
    "with open('Review.csv', 'r') as file:\n",
    "    reader = csv.reader(file)\n",
    "    next(reader)  # Skip the header\n",
    "    for row in reader:\n",
    "        sentiments.append(1 if row[0] == 'Positive' else 0)\n",
    "        reviews.append(row[1])"
   ]
  },
  {
   "cell_type": "code",
   "execution_count": 4,
   "id": "c6901952e17108ad",
   "metadata": {
    "collapsed": false,
    "jupyter": {
     "outputs_hidden": false
    }
   },
   "outputs": [
    {
     "name": "stdout",
     "output_type": "stream",
     "text": [
      "Review: Finally we get a TV series where we get to see the acting talent! Episode one was excellent! The script gave us a little more than usual, yeah, there was still the 'i'm not your father -i'm your father and omigod you cheated on me!' rubbish but the script allowed the actors to actually feel and live those real moments rather than show us what it would feel like if -like so many TV soaps do.   The camera work also gave us a little more than usual, there were no boring shots of repeated angles for hours yet there was no unnecessary'shots inside shots or hand-held camera crap' to add an 'artistic' edge it gave us what we needed to see and also some beautiful scenery pictures as well!   Nothing was over-dramatised or melodramatic they were real people in a real place dealing with real situations, the show lacked nothing in drama and was completely relevant. It was SUCH a relief to be exposed to real acting and so nice to let our country see just how talented our actors can be when given a real script, a real opportunity! Thank you Tony Tilse, Sam Miller, channel ten and all cast and crew -wonderful work!! please continue what you are doing, your efforts are much appreciated and do not go unnoticed!'\n",
      "Sentiment: Positive\n",
      "-----\n",
      "Review: 'The Lady in Question (1999)' starring Gene Wilder is a well-acted mystery drama that reminds me of the old black-and-white Raymond Burr Perry Mason series. Both Perry and 'Cash' kept me guessing right up to the end. There were many suspects with a motive for the murder, but I had no idea which character it would be.  Gene Wilder has a special charming wit about him, even in his facial expressions and vocal inflections which make him perfect for the part. The portions of the movie which portrayed actors acting was done very well. I'm sure this is an additional challenge for the cast to pull off. I am not surprised to see that he did some of the writing for the movie. Even his singing was a delight. I like him in this role more than his former 'sillier' roles like 'The Young Frankenstein' and 'Willy Wonka.' I am hoping A & E will continue this series. They ought to call it something like 'The A & E Gene Wilder Mysteries.'  The music fit the period. I enjoyed the cool live combo and the swing tunes. I was a little unclear at the beginning whether we were seeing a flashback or whether the action was taking place in that time period. And I do not agree that the inclusion of profanity is necessary to the flow of the script. To me, that always distracts.  Overall, my wife and I thoroughly enjoyed this second in a well-crafted start in what we hope will be many others -- just like one of our other favorites: Raymond Burr's Perry Mason.'\n",
      "Sentiment: Positive\n",
      "-----\n",
      "Review: Featuring a few of Hammer's all-stars, this highly effective slice of British horror revolves around a house and the fates of it's previous tenants, whose stories are all told to a Scotland yard detective, in search of a missing actor.  Story number one, which is probably the least impressive of the four, deals with a writer and his wife who've just moved in the house and plan to stay just for a short time so that he may write one of his horror novels. He creates a demented character named Dominic, who's a very creepy looking strangler, and soon finds himself going mad as he starts to seeing this beastly looking man everywhere he goes. After his wife convinces him to seek psychiatric help, a sub-plot is introduced which frankly, didn't really work for me. I won't spoil it for you.  The next story (the best in my opinion) stars the wonderful Peter Cushing as Philip Grayson, a man who's moved into the home for his retirement years and soon makes his way to a nearby wax museum(that deals in the macabre) where he's very startled to find a wax figure that looks exactly like a woman from his past. Soon thereafter, an old friend(who also has a history with this woman) is in town for business and drops by to see him. The two men are in for a rude awakening as they soon discover that there was more to this woman than meets the eye.  Story three stars one of my very favorites...Christopher Lee, who plays John Reid. After moving into the home with his peculiar daughter Jane, the nanny that he hires becomes awfully suspicious as to the way Reid suppresses his daughter. Well come to find out...if she knew what Lee did, she would have certainly understood.  The final story is a rather light-hearted vampire tale that stars John Pertwee and Ingrid Pitt. After buying a cloak from a mysterious merchant, actor Paul Henderson finds himself turning into the very creature that he's portrayed several times in his career.  Overall, the pacing and direction were very good, as was the most of the performances. There were nice Gothic touches here and there and an effective score to complement the ambiance. This one's a keeper, and comes highly recommended.\n",
      "Sentiment: Positive\n",
      "-----\n",
      "Review: Intergalactic criminal Kol (Ross Hagen) has been sentenced to death and awaits execution on a spaceship designed for just such a purpose. But tonight there's going to be a jailbreak, and Kol flees on a conveniently-placed escape pod and flies towards Earth (which apparently is nearby). There he confronts a group of 'teenagers' (who look thirty) and a game warden (John Phillip Law), who help protect him from his worst nightmare... the bounty hunter and executioner android (or more properly 'gynoid') the Alienator.  From the cover of the box, I was confident this was going to be an awful movie. But, as awful as it turned out to be, it was a ton of fun as well (probably at least partially because I was watching it with someone who happens to be intensely awesome). The director (Fred Olen Ray), who has specialized in making over one hundred low-grade films (most notably 'Hollywood Chainsaw Hookers'), does what he does best and throws together a plot that only half makes sense and gives us rudimentary special effects. Bonus: P.J. Soles appears (as 'Tara'), obviously at a low point in her career.  Sure, there's plot holes. Why are there hillbilly rednecks in California (allegedly Los Angeles County if I understood the warden correctly). What's up with the space woman's tacky blouse? Why is there a subplot about the ship captain forcefully trying to win her heart when this story goes nowhere? What the heck is 'Quadrant 5'? How does chicken wire create an electromagnetic field that will short-circuit an android, yet land mines do virtually nothing? Why does Kol look like a drunk, Native American football player with emphysema? And the Lund guy (Robert Clarke)... does his character even have a point? Does the game he plays with the captain have a point? Does this movie have a point? But the biggest mystery is the android (or gynoid) the Alienator, played by Teagan Clive. What is an 'alienator'? Why does it look like Daryl Hannah from 'Blade Runner', only much larger? Because, see, if something is a cyborg, it's part human. But if it's an android, it's all machine. This was an android, so there was no reason to make it look human. It could have looked like anything. Yet, the person who designed her made her the size of a linebacker, with David Bowie's hair and a leotard that shows me just a little too much. If you're going to make a female android, wouldn't the purpose be to have her be seductive and lure enemies in? Mission not accomplished. They say beauty comes in all shapes and sizes, but I think I found a huge exception.  If 'Mystery Science Theater 3000' were still around today, this film would be on a very short list of movies that need to get harangued.  Beyond the butt-nasty Alienator (sorry, Teagan, female weight lifters are gross) the film is alright. Maybe there's not much of a story and maybe the characters aren't really very interesting. And maybe the scene with the deer is incredibly adorable for no particular reason -- what use does a killer robot have with a deer? But overall, I actually liked the movie. I won't be pimping it out to my friends or running out to my local video store to pick up the latest DVD copy (which I'm sure is just packed with amazing special features -- not). But I consider seeing this movie time well spent and look forward to similar adventures in the future.'\n",
      "Sentiment: Negative\n",
      "-----\n",
      "Review: This remake of the 1962 orginal film'o the book has some very good parts to commend it and some fine performances by some fine actors - however Scorsese opts toward the end for the most formulaic of plot twists and an embarrassingly overacted shakespearean demise that had me looking at my watch.  DeNiro is a superb actor, dedicated to giving his all in the work he does, however he needs direction to focus his talent, and this is sorely lacking in the last five minutes of the film.  Gregory Peck's cameo is serviceable but nothing more whilst Robert Michum is always fun to watch, even with as few lines as this.  Nick Nolte turns in a better performance than Lorenzo's Oil but is not on the same form as 'Weeds'. Joe Don Baker has some great lines while Juliette Lewis proves yet again that talent sometimes skips a generation.  Some good points? The start credits(!), the first view of Cody's back when doing dips in the prison, the scene where Cody is attacked with baseball bats, Sam Bowden's decent into full-fledged panic, Cody's outwardly calm but unnerving prescence.  The worst? The 'Cleaning woman - BUT NOT REALLY!!!' part. Clinging bare-handed to the underside of a car for a hundred miles at high speed. (Are there no speed bumps in the US?) The 'He's dead - BUT NOT REALLY!!!' partS and the aforementioned rambling ending.  I may watch the original again, but I've yet to be tempted to watch the remake in four years since seeing it.'\n",
      "Sentiment: Negative\n",
      "-----\n"
     ]
    }
   ],
   "source": [
    "# Display a few random reviews\n",
    "for i in range(5):\n",
    "    index = random.randint(0, len(reviews) - 1)\n",
    "    print(f\"Review: {reviews[index]}\")\n",
    "    print(f\"Sentiment: {'Positive' if sentiments[index] == 1 else 'Negative'}\")\n",
    "    print(\"-----\")"
   ]
  },
  {
   "cell_type": "code",
   "execution_count": null,
   "id": "3dd21d61544fcfb3",
   "metadata": {
    "ExecuteTime": {
     "end_time": "2023-10-31T02:13:13.150368Z",
     "start_time": "2023-10-31T01:49:19.487537Z"
    },
    "collapsed": false,
    "jupyter": {
     "outputs_hidden": false
    }
   },
   "outputs": [],
   "source": [
    "from sklearn.model_selection import train_test_split\n",
    "from torchtext.data.utils import get_tokenizer\n",
    "from collections import Counter, OrderedDict\n",
    "from torchtext.vocab import vocab\n",
    "import torch"
   ]
  },
  {
   "cell_type": "code",
   "execution_count": null,
   "id": "fb6a985cc672b71c",
   "metadata": {
    "collapsed": false,
    "jupyter": {
     "outputs_hidden": false
    }
   },
   "outputs": [],
   "source": [
    "import nltk\n",
    "from nltk.corpus import stopwords\n",
    "from nltk.stem import WordNetLemmatizer\n",
    "import string"
   ]
  },
  {
   "cell_type": "code",
   "execution_count": null,
   "id": "85fdcf357ad70bb2",
   "metadata": {
    "collapsed": false,
    "jupyter": {
     "outputs_hidden": false
    }
   },
   "outputs": [],
   "source": [
    "# Downloading necessary datasets and wordnet from nltk\n",
    "nltk.download('stopwords')\n",
    "nltk.download('wordnet')"
   ]
  },
  {
   "cell_type": "code",
   "execution_count": null,
   "id": "a3ee0c6af9f7f1d",
   "metadata": {
    "collapsed": false,
    "jupyter": {
     "outputs_hidden": false
    }
   },
   "outputs": [],
   "source": [
    "stop_words = set(stopwords.words('english'))\n",
    "lemmatizer = WordNetLemmatizer()"
   ]
  },
  {
   "cell_type": "code",
   "execution_count": null,
   "id": "824de5b7c2b15fd9",
   "metadata": {
    "collapsed": false,
    "jupyter": {
     "outputs_hidden": false
    }
   },
   "outputs": [],
   "source": [
    "def preprocess_text(text):\n",
    "    # Convert to lowercase\n",
    "    text = text.lower()\n",
    "    # Remove punctuation\n",
    "    text = ''.join([char for char in text if char not in string.punctuation])\n",
    "    # Tokenization\n",
    "    tokens = nltk.word_tokenize(text)\n",
    "    # Remove stopwords and lemmatize\n",
    "    tokens = [lemmatizer.lemmatize(token) for token in tokens if token not in stop_words]\n",
    "    return tokens\n",
    "\n",
    "# Apply preprocessing to each review\n",
    "tokenized_reviews = [preprocess_text(review) for review in reviews]"
   ]
  },
  {
   "cell_type": "code",
   "execution_count": null,
   "id": "c641cb52287581c6",
   "metadata": {
    "collapsed": false,
    "jupyter": {
     "outputs_hidden": false
    }
   },
   "outputs": [],
   "source": [
    "# Tokenization\n",
    "tokenizer = get_tokenizer('basic_english')\n",
    "tokenized_reviews = [tokenizer(review) for review in reviews]"
   ]
  },
  {
   "cell_type": "code",
   "execution_count": null,
   "id": "910b1c52bd99ca46",
   "metadata": {
    "collapsed": false,
    "jupyter": {
     "outputs_hidden": false
    }
   },
   "outputs": [],
   "source": [
    "# Build vocabulary\n",
    "counter = Counter()\n",
    "for review in tokenized_reviews:\n",
    "    counter.update(review)\n",
    "sorted_by_freq_tuples = sorted(counter.items(), key=lambda x: x[1], reverse=True)\n",
    "ordered_dict = OrderedDict(sorted_by_freq_tuples)\n",
    "vocab = vocab(ordered_dict, min_freq=1)"
   ]
  },
  {
   "cell_type": "code",
   "execution_count": null,
   "id": "815b2c6e279dbbc2",
   "metadata": {
    "collapsed": false,
    "jupyter": {
     "outputs_hidden": false
    }
   },
   "outputs": [],
   "source": [
    "# Numericalize, pad, and split the data\n",
    "def numericalize(tokenized_review, vocab):\n",
    "    return [vocab[token] for token in tokenized_review]\n",
    "\n",
    "numericalized_reviews = [numericalize(review, vocab) for review in tokenized_reviews]\n",
    "padded_reviews = torch.nn.utils.rnn.pad_sequence([torch.tensor(review) for review in numericalized_reviews], batch_first=True)"
   ]
  },
  {
   "cell_type": "code",
   "execution_count": null,
   "id": "79b41d67b9156ebd",
   "metadata": {
    "collapsed": false,
    "jupyter": {
     "outputs_hidden": false
    }
   },
   "outputs": [],
   "source": [
    "# Split the data\n",
    "train_reviews, val_reviews, train_sentiments, val_sentiments = train_test_split(padded_reviews, sentiments, test_size=0.2, random_state=42)"
   ]
  },
  {
   "cell_type": "code",
   "execution_count": null,
   "id": "6d742ca005b7ae92",
   "metadata": {
    "collapsed": false,
    "jupyter": {
     "outputs_hidden": false
    }
   },
   "outputs": [],
   "source": [
    "import torch.nn as nn"
   ]
  },
  {
   "cell_type": "code",
   "execution_count": null,
   "id": "3ad66e94d79cce4d",
   "metadata": {
    "collapsed": false,
    "jupyter": {
     "outputs_hidden": false
    }
   },
   "outputs": [],
   "source": [
    "class SentimentModel(nn.Module):\n",
    "    def __init__(self, vocab_size, embedding_dim, hidden_dim, output_dim):\n",
    "        super(SentimentModel, self).__init__()\n",
    "        self.embedding = nn.Embedding(vocab_size, embedding_dim)\n",
    "        self.lstm = nn.LSTM(embedding_dim, hidden_dim, batch_first=True)\n",
    "        self.fc = nn.Linear(hidden_dim, output_dim)\n",
    "\n",
    "    def forward(self, text):\n",
    "        embedded = self.embedding(text)\n",
    "        _, (hidden, _) = self.lstm(embedded)\n",
    "        output = self.fc(hidden[-1])\n",
    "        return output"
   ]
  },
  {
   "cell_type": "code",
   "execution_count": null,
   "id": "6bf50b26c50d1908",
   "metadata": {
    "collapsed": false,
    "jupyter": {
     "outputs_hidden": false
    }
   },
   "outputs": [],
   "source": [
    "# Hyperparameters\n",
    "VOCAB_SIZE = len(vocab)\n",
    "EMBEDDING_DIM = 100\n",
    "HIDDEN_DIM = 256\n",
    "OUTPUT_DIM = 1\n",
    "LEARNING_RATE = 0.001"
   ]
  },
  {
   "cell_type": "code",
   "execution_count": null,
   "id": "f88f1c5615965552",
   "metadata": {
    "collapsed": false,
    "jupyter": {
     "outputs_hidden": false
    }
   },
   "outputs": [],
   "source": [
    "# Initialize the model\n",
    "model = SentimentModel(VOCAB_SIZE, EMBEDDING_DIM, HIDDEN_DIM, OUTPUT_DIM)"
   ]
  },
  {
   "cell_type": "code",
   "execution_count": null,
   "id": "1e28121d3d7f9701",
   "metadata": {
    "collapsed": false,
    "jupyter": {
     "outputs_hidden": false
    }
   },
   "outputs": [],
   "source": [
    "# Define the loss function and the optimizer\n",
    "criterion = nn.BCEWithLogitsLoss()  # Binary cross-entropy with logits\n",
    "optimizer = torch.optim.Adam(model.parameters(), lr=LEARNING_RATE)"
   ]
  },
  {
   "cell_type": "code",
   "execution_count": null,
   "id": "c6eab554717e1ac3",
   "metadata": {
    "collapsed": false,
    "jupyter": {
     "outputs_hidden": false
    }
   },
   "outputs": [],
   "source": [
    "# Training parameters\n",
    "EPOCHS = 3\n",
    "BATCH_SIZE = 64"
   ]
  },
  {
   "cell_type": "code",
   "execution_count": null,
   "id": "78def30d5d83e95d",
   "metadata": {
    "collapsed": false,
    "jupyter": {
     "outputs_hidden": false
    }
   },
   "outputs": [],
   "source": [
    "# Convert data to tensor format\n",
    "train_reviews_tensor = torch.stack(list(train_reviews))\n",
    "train_sentiments_tensor = torch.tensor(train_sentiments, dtype=torch.float32).view(-1, 1)\n",
    "val_reviews_tensor = torch.stack(list(val_reviews))\n",
    "val_sentiments_tensor = torch.tensor(val_sentiments, dtype=torch.float32).view(-1, 1)"
   ]
  },
  {
   "cell_type": "code",
   "execution_count": null,
   "id": "d2b92322c9bc5101",
   "metadata": {
    "collapsed": false,
    "jupyter": {
     "outputs_hidden": false
    }
   },
   "outputs": [],
   "source": [
    "# Training loop\n",
    "for epoch in range(EPOCHS):\n",
    "    for i in range(0, len(train_reviews), BATCH_SIZE):\n",
    "        batch_reviews = train_reviews_tensor[i:i + BATCH_SIZE]\n",
    "        batch_sentiments = train_sentiments_tensor[i:i + BATCH_SIZE]\n",
    "\n",
    "        # Zero the gradients\n",
    "        optimizer.zero_grad()\n",
    "\n",
    "        # Forward pass\n",
    "        outputs = model(batch_reviews)\n",
    "        loss = criterion(outputs, batch_sentiments)\n",
    "\n",
    "        # Backward pass and optimization\n",
    "        loss.backward()\n",
    "        optimizer.step()\n",
    "\n",
    "    # Print loss for every epoch\n",
    "    print(f\"Epoch {epoch + 1}/{EPOCHS}, Loss: {loss.item():.4f}\")"
   ]
  },
  {
   "cell_type": "code",
   "execution_count": null,
   "id": "ef49b20a196e2dee",
   "metadata": {
    "collapsed": false,
    "jupyter": {
     "outputs_hidden": false
    }
   },
   "outputs": [],
   "source": [
    "with torch.no_grad():\n",
    "    val_outputs = model(val_reviews_tensor)\n",
    "    val_loss = criterion(val_outputs, val_sentiments_tensor)\n",
    "    val_predictions = torch.round(torch.sigmoid(val_outputs))\n",
    "    accuracy = (val_predictions == val_sentiments_tensor).sum().float() / len(val_sentiments)"
   ]
  },
  {
   "cell_type": "code",
   "execution_count": null,
   "id": "6899b6b96ca715eb",
   "metadata": {
    "collapsed": false,
    "jupyter": {
     "outputs_hidden": false
    }
   },
   "outputs": [],
   "source": [
    "print(f\"Validation Loss: {val_loss:.4f}\")\n",
    "print(f\"Validation Accuracy: {accuracy:.4f}\")"
   ]
  },
  {
   "cell_type": "code",
   "execution_count": null,
   "id": "77e4c2674882876d",
   "metadata": {
    "collapsed": false,
    "jupyter": {
     "outputs_hidden": false
    }
   },
   "outputs": [],
   "source": [
    "torch.save(model.state_dict(), 'model_state_dict.pth')"
   ]
  },
  {
   "cell_type": "code",
   "execution_count": null,
   "id": "89a7f96239616445",
   "metadata": {
    "collapsed": false,
    "jupyter": {
     "outputs_hidden": false
    }
   },
   "outputs": [],
   "source": [
    "model = SentimentModel(VOCAB_SIZE, EMBEDDING_DIM, HIDDEN_DIM, OUTPUT_DIM)\n",
    "model.load_state_dict(torch.load('model_state_dict.pth'))\n",
    "model.eval()  # Set the model to evaluation mode"
   ]
  }
 ],
 "metadata": {
  "kernelspec": {
   "display_name": "Python 3 (ipykernel)",
   "language": "python",
   "name": "python3"
  },
  "language_info": {
   "codemirror_mode": {
    "name": "ipython",
    "version": 3
   },
   "file_extension": ".py",
   "mimetype": "text/x-python",
   "name": "python",
   "nbconvert_exporter": "python",
   "pygments_lexer": "ipython3",
   "version": "3.10.7"
  }
 },
 "nbformat": 4,
 "nbformat_minor": 5
}
