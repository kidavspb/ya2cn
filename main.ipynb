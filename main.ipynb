{
 "cells": [
  {
   "cell_type": "code",
   "execution_count": 1,
   "id": "bc53dccb4a838cfa",
   "metadata": {
    "ExecuteTime": {
     "end_time": "2023-10-31T01:44:38.277288Z",
     "start_time": "2023-10-31T01:44:38.266238Z"
    },
    "collapsed": false
   },
   "outputs": [],
   "source": [
    "import csv\n",
    "import random"
   ]
  },
  {
   "cell_type": "code",
   "execution_count": 2,
   "id": "75179f44e5b069e2",
   "metadata": {
    "collapsed": false
   },
   "outputs": [],
   "source": [
    "reviews = []\n",
    "sentiments = []"
   ]
  },
  {
   "cell_type": "code",
   "execution_count": 3,
   "id": "cc3df4da7ae0f471",
   "metadata": {
    "collapsed": false
   },
   "outputs": [],
   "source": [
    "with open('Review.csv', 'r') as file:\n",
    "    reader = csv.reader(file)\n",
    "    next(reader)  # Skip the header\n",
    "    for row in reader:\n",
    "        sentiments.append(1 if row[0] == 'Positive' else 0)\n",
    "        reviews.append(row[1])"
   ]
  },
  {
   "cell_type": "code",
   "execution_count": 4,
   "id": "c6901952e17108ad",
   "metadata": {
    "collapsed": false
   },
   "outputs": [
    {
     "name": "stdout",
     "output_type": "stream",
     "text": [
      "Review: This excellent drama had me in suspense the whole time. I could not take my eyes off the screen for one second because every word kept connecting the pieces to this puzzling murder. This movie really touched me because it showed how sad and hard life can be. I really did cry in the end (which I don't want to give away!) It also let me realize how cruel and sickening people can be when it comes to murder.   The cast was also very good. The only bad cast member was the actress who played Anne Marie. The actress did a great job, but the director didn't. I say this because he found someone who didn't look a single bit like Anne Marie Fahey herself.\n",
      "Sentiment: Positive\n",
      "-----\n",
      "Review: Robert Urich was a fine actor, and he makes this TV movie believable. I remember watching this film when I was 15, and when seeing it a second time my opinion stays the same. People lose who they were when enter this exclusive club, in a computer rich Californian town. Urich try's to figure out what is wrong with his family, and I love the Halloween space suit idea, brilliant. This film is about the battle of one's sprit. TV quality, that exceeds, the big budget, Gangs of New York. I wonder if Robert Urich was the compassionate man he portrayed in many of his movie? I hope so! 6 or 7 out of 10.\n",
      "Sentiment: Positive\n",
      "-----\n",
      "Review: foywonder's review of this cheap STV hits the nail squarely on the head. Make sure you read it. In case you don't, a group of scientists heads off into the deep woods of the Pacific Northwest, to fumble around with a bunch of bones in an animal graveyard. The Big Foot family doesn't take kindly to this, and proceeds to pick off the team one by one, largely offscreen. Big Foot himself has a distinctly ape-like face, but is less scary overall than Harry from HARRY AND THE HENDERSONS. Most of the movie has the wooden, generic actors pretending to be scientists tromping around in the woods and yakking away. This is a no-budget movie in which very little happens, at least on screen. We do get to watch the sexiest of the females take a shower while one of her male companions watches, but nothing comes of this.\n",
      "Sentiment: Negative\n",
      "-----\n",
      "Review: I would never have thought I would almost cry viewing one minute excerpted from a 1920 black and white movie without sound. Thanks to Martin Scorsese I did (the movie was from F. Borzage). You will start to understand (if it's not already the case), what makes a good movie.\n",
      "Sentiment: Positive\n",
      "-----\n",
      "Review: Dressed to Kill (1980) is a mystery horror film from Brian De Palma and it really works.The atmosphere is right there.The atmosphere that makes you scared.And isn't that what a horror film is supposed to do.All the actors are in the right places.Michael Caine is perfect as Dr. Robert Elliott, the shrink with a little secret.Angie Dickinson as Kate Miller, the sexually frustrated mature woman is terrific.Keith Gordon as her son Peter is brilliant.Nancy Allen as Liz Blake the call girl is fantastic.Dennis Franz does his typical detective role.His Detective Marino is one of the most colorful in this movie.There are plenty of creepy scenes in this movie.The elevator scene is one of them.There have been made comparisons between this and Alfred Hitchcock's Psycho (1960).There are some similarities between these two movies.Both of these movies may cause some sleepless nights.\n",
      "Sentiment: Positive\n",
      "-----\n"
     ]
    }
   ],
   "source": [
    "# Display a few random reviews\n",
    "for i in range(5):\n",
    "    index = random.randint(0, len(reviews) - 1)\n",
    "    print(f\"Review: {reviews[index]}\")\n",
    "    print(f\"Sentiment: {'Positive' if sentiments[index] == 1 else 'Negative'}\")\n",
    "    print(\"-----\")"
   ]
  },
  {
   "cell_type": "code",
   "execution_count": 5,
   "id": "3dd21d61544fcfb3",
   "metadata": {
    "ExecuteTime": {
     "end_time": "2023-10-31T02:13:13.150368Z",
     "start_time": "2023-10-31T01:49:19.487537Z"
    },
    "collapsed": false
   },
   "outputs": [],
   "source": [
    "from sklearn.model_selection import train_test_split\n",
    "from torchtext.data.utils import get_tokenizer\n",
    "from collections import Counter, OrderedDict\n",
    "from torchtext.vocab import vocab\n",
    "import torch"
   ]
  },
  {
   "cell_type": "code",
   "execution_count": 6,
   "id": "c641cb52287581c6",
   "metadata": {
    "collapsed": false
   },
   "outputs": [],
   "source": [
    "# Tokenization\n",
    "tokenizer = get_tokenizer('basic_english')\n",
    "tokenized_reviews = [tokenizer(review) for review in reviews]"
   ]
  },
  {
   "cell_type": "code",
   "execution_count": 7,
   "id": "910b1c52bd99ca46",
   "metadata": {
    "collapsed": false
   },
   "outputs": [],
   "source": [
    "# Build vocabulary\n",
    "counter = Counter()\n",
    "for review in tokenized_reviews:\n",
    "    counter.update(review)\n",
    "sorted_by_freq_tuples = sorted(counter.items(), key=lambda x: x[1], reverse=True)\n",
    "ordered_dict = OrderedDict(sorted_by_freq_tuples)\n",
    "vocab = vocab(ordered_dict, min_freq=1)"
   ]
  },
  {
   "cell_type": "code",
   "execution_count": 8,
   "id": "815b2c6e279dbbc2",
   "metadata": {
    "collapsed": false
   },
   "outputs": [],
   "source": [
    "# Numericalize, pad, and split the data\n",
    "def numericalize(tokenized_review, vocab):\n",
    "    return [vocab[token] for token in tokenized_review]\n",
    "\n",
    "numericalized_reviews = [numericalize(review, vocab) for review in tokenized_reviews]\n",
    "padded_reviews = torch.nn.utils.rnn.pad_sequence([torch.tensor(review) for review in numericalized_reviews], batch_first=True)"
   ]
  },
  {
   "cell_type": "code",
   "execution_count": 9,
   "id": "79b41d67b9156ebd",
   "metadata": {
    "collapsed": false
   },
   "outputs": [],
   "source": [
    "# Split the data\n",
    "train_reviews, val_reviews, train_sentiments, val_sentiments = train_test_split(padded_reviews, sentiments, test_size=0.2, random_state=42)"
   ]
  },
  {
   "cell_type": "code",
   "execution_count": 10,
   "id": "6d742ca005b7ae92",
   "metadata": {
    "collapsed": false
   },
   "outputs": [],
   "source": [
    "import torch.nn as nn"
   ]
  },
  {
   "cell_type": "code",
   "execution_count": 11,
   "id": "3ad66e94d79cce4d",
   "metadata": {
    "collapsed": false
   },
   "outputs": [],
   "source": [
    "class SentimentModel(nn.Module):\n",
    "    def __init__(self, vocab_size, embedding_dim, hidden_dim, output_dim):\n",
    "        super(SentimentModel, self).__init__()\n",
    "        self.embedding = nn.Embedding(vocab_size, embedding_dim)\n",
    "        self.lstm = nn.LSTM(embedding_dim, hidden_dim, batch_first=True)\n",
    "        self.fc = nn.Linear(hidden_dim, output_dim)\n",
    "\n",
    "    def forward(self, text):\n",
    "        embedded = self.embedding(text)\n",
    "        _, (hidden, _) = self.lstm(embedded)\n",
    "        output = self.fc(hidden[-1])\n",
    "        return output"
   ]
  },
  {
   "cell_type": "code",
   "execution_count": 12,
   "id": "6bf50b26c50d1908",
   "metadata": {
    "collapsed": false
   },
   "outputs": [],
   "source": [
    "# Hyperparameters\n",
    "VOCAB_SIZE = len(vocab)\n",
    "EMBEDDING_DIM = 100\n",
    "HIDDEN_DIM = 256\n",
    "OUTPUT_DIM = 1\n",
    "LEARNING_RATE = 0.001"
   ]
  },
  {
   "cell_type": "code",
   "execution_count": 13,
   "id": "f88f1c5615965552",
   "metadata": {
    "collapsed": false
   },
   "outputs": [],
   "source": [
    "# Initialize the model\n",
    "model = SentimentModel(VOCAB_SIZE, EMBEDDING_DIM, HIDDEN_DIM, OUTPUT_DIM)"
   ]
  },
  {
   "cell_type": "code",
   "execution_count": 14,
   "id": "1e28121d3d7f9701",
   "metadata": {
    "collapsed": false
   },
   "outputs": [],
   "source": [
    "# Define the loss function and the optimizer\n",
    "criterion = nn.BCEWithLogitsLoss()  # Binary cross-entropy with logits\n",
    "optimizer = torch.optim.Adam(model.parameters(), lr=LEARNING_RATE)"
   ]
  },
  {
   "cell_type": "code",
   "execution_count": 15,
   "id": "c6eab554717e1ac3",
   "metadata": {
    "collapsed": false
   },
   "outputs": [],
   "source": [
    "# Training parameters\n",
    "EPOCHS = 5\n",
    "BATCH_SIZE = 64"
   ]
  },
  {
   "cell_type": "code",
   "execution_count": 16,
   "id": "78def30d5d83e95d",
   "metadata": {
    "collapsed": false
   },
   "outputs": [],
   "source": [
    "# Convert data to tensor format\n",
    "train_reviews_tensor = torch.stack(list(train_reviews))\n",
    "train_sentiments_tensor = torch.tensor(train_sentiments, dtype=torch.float32).view(-1, 1)\n",
    "val_reviews_tensor = torch.stack(list(val_reviews))\n",
    "val_sentiments_tensor = torch.tensor(val_sentiments, dtype=torch.float32).view(-1, 1)"
   ]
  },
  {
   "cell_type": "code",
   "execution_count": null,
   "id": "d2b92322c9bc5101",
   "metadata": {
    "collapsed": false
   },
   "outputs": [
    {
     "name": "stdout",
     "output_type": "stream",
     "text": [
      "Epoch 1/5, Loss: 0.6935\n",
      "Epoch 2/5, Loss: 0.6932\n",
      "Epoch 3/5, Loss: 0.6931\n"
     ]
    }
   ],
   "source": [
    "# Training loop\n",
    "for epoch in range(EPOCHS):\n",
    "    for i in range(0, len(train_reviews), BATCH_SIZE):\n",
    "        batch_reviews = train_reviews_tensor[i:i + BATCH_SIZE]\n",
    "        batch_sentiments = train_sentiments_tensor[i:i + BATCH_SIZE]\n",
    "\n",
    "        # Zero the gradients\n",
    "        optimizer.zero_grad()\n",
    "\n",
    "        # Forward pass\n",
    "        outputs = model(batch_reviews)\n",
    "        loss = criterion(outputs, batch_sentiments)\n",
    "\n",
    "        # Backward pass and optimization\n",
    "        loss.backward()\n",
    "        optimizer.step()\n",
    "\n",
    "    # Print loss for every epoch\n",
    "    print(f\"Epoch {epoch + 1}/{EPOCHS}, Loss: {loss.item():.4f}\")"
   ]
  },
  {
   "cell_type": "code",
   "execution_count": null,
   "id": "ef49b20a196e2dee",
   "metadata": {
    "collapsed": false
   },
   "outputs": [],
   "source": [
    "with torch.no_grad():\n",
    "    val_outputs = model(val_reviews_tensor)\n",
    "    val_loss = criterion(val_outputs, val_sentiments_tensor)\n",
    "    val_predictions = torch.round(torch.sigmoid(val_outputs))\n",
    "    accuracy = (val_predictions == val_sentiments_tensor).sum().float() / len(val_sentiments)"
   ]
  },
  {
   "cell_type": "code",
   "execution_count": null,
   "id": "6899b6b96ca715eb",
   "metadata": {
    "collapsed": false
   },
   "outputs": [],
   "source": [
    "print(f\"Validation Loss: {val_loss:.4f}\")\n",
    "print(f\"Validation Accuracy: {accuracy:.4f}\")"
   ]
  },
  {
   "cell_type": "code",
   "execution_count": null,
   "outputs": [],
   "source": [
    "torch.save(model.state_dict(), 'path_to_store_model_state_dict.pth')"
   ],
   "metadata": {
    "collapsed": false
   },
   "id": "77e4c2674882876d"
  },
  {
   "cell_type": "code",
   "execution_count": null,
   "outputs": [],
   "source": [
    "model = SentimentModel(VOCAB_SIZE, EMBEDDING_DIM, HIDDEN_DIM, OUTPUT_DIM)\n",
    "model.load_state_dict(torch.load('path_to_store_model_state_dict.pth'))\n",
    "model.eval()  # Set the model to evaluation mode"
   ],
   "metadata": {
    "collapsed": false
   },
   "id": "89a7f96239616445"
  }
 ],
 "metadata": {
  "kernelspec": {
   "display_name": "Python 3 (ipykernel)",
   "language": "python",
   "name": "python3"
  },
  "language_info": {
   "codemirror_mode": {
    "name": "ipython",
    "version": 3
   },
   "file_extension": ".py",
   "mimetype": "text/x-python",
   "name": "python",
   "nbconvert_exporter": "python",
   "pygments_lexer": "ipython3",
   "version": "3.10.7"
  }
 },
 "nbformat": 4,
 "nbformat_minor": 5
}
